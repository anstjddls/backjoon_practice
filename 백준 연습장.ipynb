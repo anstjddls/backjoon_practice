{
 "cells": [
  {
   "cell_type": "code",
   "execution_count": 6,
   "id": "24cee274",
   "metadata": {},
   "outputs": [
    {
     "name": "stdout",
     "output_type": "stream",
     "text": [
      "2\n",
      "3 play\n",
      "ppplllaaayyy3 chicken\n",
      "ccchhhiiiccckkkeeennn"
     ]
    }
   ],
   "source": [
    "T = int(input())\n",
    "for i in range(T):\n",
    "    word = list(input().split())\n",
    "    for j in range(len(word[1])):\n",
    "                   a = int(word[0]) \n",
    "                   for k in range(a): #반복횟수\n",
    "                       print(word[1][j],end='')\n",
    "                \n",
    "    \n",
    "    \n",
    "    \n",
    "    \n",
    "    \n",
    "\n",
    "\n",
    "\n",
    "\n",
    "\n",
    "        \n",
    "    \n"
   ]
  },
  {
   "cell_type": "code",
   "execution_count": 10,
   "id": "e505ed39",
   "metadata": {},
   "outputs": [
    {
     "name": "stdout",
     "output_type": "stream",
     "text": [
      "2\n",
      "3\n",
      "word\n",
      "wwwooorrrddd\n",
      "3\n",
      "word\n",
      "wwwooorrrddd\n"
     ]
    }
   ],
   "source": [
    "T = int(input())\n",
    "for i in range(T):\n",
    "    K = int(input()) #횟수입력\n",
    "    T = input() #단어입력\n",
    "    word = \"\"\n",
    "    for k in T:  #단어자체도 반복문에 넣으면 한 단어씩 k에 집어넣는 반복문 형성 가능\n",
    "        word+= k*K\n",
    "    print(word)"
   ]
  },
  {
   "cell_type": "code",
   "execution_count": 17,
   "id": "6c1046b4",
   "metadata": {},
   "outputs": [
    {
     "name": "stdout",
     "output_type": "stream",
     "text": [
      "i liek you\n",
      "3\n"
     ]
    }
   ],
   "source": [
    "word = input()\n",
    "arr = list(word.split())\n",
    "word_count = len(arr)\n",
    "print(word_count)"
   ]
  },
  {
   "cell_type": "code",
   "execution_count": 35,
   "id": "b6ca9730",
   "metadata": {},
   "outputs": [
    {
     "name": "stdout",
     "output_type": "stream",
     "text": [
      "234 532\n",
      "432\n"
     ]
    }
   ],
   "source": [
    "def change(x):\n",
    "    result = int(''.join(map(str,x)))\n",
    "    return result\n",
    "\n",
    "A, B = input().split()\n",
    "\n",
    "word_A = list(A)\n",
    "word_B = list(B) \n",
    "word_A.reverse()\n",
    "word_B.reverse()\n",
    "result_A = change(word_A)\n",
    "result_B = change(word_B)\n",
    "print(max(result_A,result_B))\n",
    "\n",
    "        "
   ]
  },
  {
   "cell_type": "markdown",
   "id": "432b03b9",
   "metadata": {},
   "source": [
    "## 근데 이거 너무 복잡하게 품"
   ]
  },
  {
   "cell_type": "code",
   "execution_count": 47,
   "id": "8ef7e083",
   "metadata": {},
   "outputs": [
    {
     "name": "stdout",
     "output_type": "stream",
     "text": [
      "345 423\n",
      "543\n"
     ]
    }
   ],
   "source": [
    "A, B = input().split()\n",
    "A, B = A[::-1], B[::-1] #이떄까지 str 구조다\n",
    "A, B = int(A), int(B)\n",
    "print(max(A,B))"
   ]
  },
  {
   "cell_type": "code",
   "execution_count": 73,
   "id": "72396afe",
   "metadata": {},
   "outputs": [
    {
     "name": "stdout",
     "output_type": "stream",
     "text": [
      "WORD\n",
      "29\n"
     ]
    }
   ],
   "source": [
    "alpha = ['ABC','DEF','GHI','JKL','MNO','PQRS','TUV','WXYZ']\n",
    "word = input() #단어 입력받기\n",
    "time = 0\n",
    "for i in word:\n",
    "    for j in alpha:\n",
    "        for k in j:\n",
    "            if (k == i):\n",
    "                time += alpha.index(j) + 3 #내용 알면 인덱스 가져올 수 있음\n",
    "print(time)\n",
    "\n"
   ]
  },
  {
   "cell_type": "code",
   "execution_count": 6,
   "id": "71bc0463",
   "metadata": {},
   "outputs": [
    {
     "name": "stdout",
     "output_type": "stream",
     "text": [
      "\n",
      "\n",
      "df\n",
      "df\n",
      "dfsfasd\n",
      "dfsfasd\n"
     ]
    },
    {
     "ename": "KeyboardInterrupt",
     "evalue": "Interrupted by user",
     "output_type": "error",
     "traceback": [
      "\u001b[1;31m---------------------------------------------------------------------------\u001b[0m",
      "\u001b[1;31mKeyboardInterrupt\u001b[0m                         Traceback (most recent call last)",
      "\u001b[1;32m<ipython-input-6-2106c67b08d8>\u001b[0m in \u001b[0;36m<module>\u001b[1;34m\u001b[0m\n\u001b[0;32m      1\u001b[0m \u001b[1;32mwhile\u001b[0m \u001b[1;32mTrue\u001b[0m \u001b[1;33m:\u001b[0m\u001b[1;33m\u001b[0m\u001b[1;33m\u001b[0m\u001b[0m\n\u001b[0;32m      2\u001b[0m     \u001b[1;32mtry\u001b[0m \u001b[1;33m:\u001b[0m\u001b[1;33m\u001b[0m\u001b[1;33m\u001b[0m\u001b[0m\n\u001b[1;32m----> 3\u001b[1;33m         \u001b[0mprint\u001b[0m\u001b[1;33m(\u001b[0m\u001b[0minput\u001b[0m\u001b[1;33m(\u001b[0m\u001b[1;33m)\u001b[0m\u001b[1;33m)\u001b[0m\u001b[1;33m\u001b[0m\u001b[1;33m\u001b[0m\u001b[0m\n\u001b[0m\u001b[0;32m      4\u001b[0m     \u001b[1;32mexcept\u001b[0m \u001b[0mEOFError\u001b[0m\u001b[1;33m:\u001b[0m\u001b[1;33m\u001b[0m\u001b[1;33m\u001b[0m\u001b[0m\n\u001b[0;32m      5\u001b[0m         \u001b[1;32mbreak\u001b[0m\u001b[1;33m\u001b[0m\u001b[1;33m\u001b[0m\u001b[0m\n",
      "\u001b[1;32mC:\\ProgramData\\Anaconda3\\lib\\site-packages\\ipykernel\\kernelbase.py\u001b[0m in \u001b[0;36mraw_input\u001b[1;34m(self, prompt)\u001b[0m\n\u001b[0;32m    858\u001b[0m                 \u001b[1;34m\"raw_input was called, but this frontend does not support input requests.\"\u001b[0m\u001b[1;33m\u001b[0m\u001b[1;33m\u001b[0m\u001b[0m\n\u001b[0;32m    859\u001b[0m             )\n\u001b[1;32m--> 860\u001b[1;33m         return self._input_request(str(prompt),\n\u001b[0m\u001b[0;32m    861\u001b[0m             \u001b[0mself\u001b[0m\u001b[1;33m.\u001b[0m\u001b[0m_parent_ident\u001b[0m\u001b[1;33m,\u001b[0m\u001b[1;33m\u001b[0m\u001b[1;33m\u001b[0m\u001b[0m\n\u001b[0;32m    862\u001b[0m             \u001b[0mself\u001b[0m\u001b[1;33m.\u001b[0m\u001b[0m_parent_header\u001b[0m\u001b[1;33m,\u001b[0m\u001b[1;33m\u001b[0m\u001b[1;33m\u001b[0m\u001b[0m\n",
      "\u001b[1;32mC:\\ProgramData\\Anaconda3\\lib\\site-packages\\ipykernel\\kernelbase.py\u001b[0m in \u001b[0;36m_input_request\u001b[1;34m(self, prompt, ident, parent, password)\u001b[0m\n\u001b[0;32m    902\u001b[0m             \u001b[1;32mexcept\u001b[0m \u001b[0mKeyboardInterrupt\u001b[0m\u001b[1;33m:\u001b[0m\u001b[1;33m\u001b[0m\u001b[1;33m\u001b[0m\u001b[0m\n\u001b[0;32m    903\u001b[0m                 \u001b[1;31m# re-raise KeyboardInterrupt, to truncate traceback\u001b[0m\u001b[1;33m\u001b[0m\u001b[1;33m\u001b[0m\u001b[1;33m\u001b[0m\u001b[0m\n\u001b[1;32m--> 904\u001b[1;33m                 \u001b[1;32mraise\u001b[0m \u001b[0mKeyboardInterrupt\u001b[0m\u001b[1;33m(\u001b[0m\u001b[1;34m\"Interrupted by user\"\u001b[0m\u001b[1;33m)\u001b[0m \u001b[1;32mfrom\u001b[0m \u001b[1;32mNone\u001b[0m\u001b[1;33m\u001b[0m\u001b[1;33m\u001b[0m\u001b[0m\n\u001b[0m\u001b[0;32m    905\u001b[0m             \u001b[1;32mexcept\u001b[0m \u001b[0mException\u001b[0m \u001b[1;32mas\u001b[0m \u001b[0me\u001b[0m\u001b[1;33m:\u001b[0m\u001b[1;33m\u001b[0m\u001b[1;33m\u001b[0m\u001b[0m\n\u001b[0;32m    906\u001b[0m                 \u001b[0mself\u001b[0m\u001b[1;33m.\u001b[0m\u001b[0mlog\u001b[0m\u001b[1;33m.\u001b[0m\u001b[0mwarning\u001b[0m\u001b[1;33m(\u001b[0m\u001b[1;34m\"Invalid Message:\"\u001b[0m\u001b[1;33m,\u001b[0m \u001b[0mexc_info\u001b[0m\u001b[1;33m=\u001b[0m\u001b[1;32mTrue\u001b[0m\u001b[1;33m)\u001b[0m\u001b[1;33m\u001b[0m\u001b[1;33m\u001b[0m\u001b[0m\n",
      "\u001b[1;31mKeyboardInterrupt\u001b[0m: Interrupted by user"
     ]
    }
   ],
   "source": [
    "while True :\n",
    "    try :\n",
    "        print(input())\n",
    "    except:\n",
    "        break\n",
    "    "
   ]
  },
  {
   "cell_type": "code",
   "execution_count": null,
   "id": "ea8cf55b",
   "metadata": {},
   "outputs": [],
   "source": []
  },
  {
   "cell_type": "code",
   "execution_count": 19,
   "id": "624abd5e",
   "metadata": {},
   "outputs": [
    {
     "name": "stdout",
     "output_type": "stream",
     "text": [
      "1 3 4 3 4 5\n",
      "0 -2 -2 -1 -2 3 "
     ]
    }
   ],
   "source": [
    "chess = [1,1,2,2,2,8]\n",
    "result = []\n",
    "have = list(map(int, input().split()))\n",
    "# result =chess - have  이게 안된다네\n",
    "result = [a-b for a, b in zip(chess,have)]\n",
    "for i in result:\n",
    "    print(i,end=' ')"
   ]
  },
  {
   "cell_type": "code",
   "execution_count": 54,
   "id": "61bd39ce",
   "metadata": {},
   "outputs": [
    {
     "name": "stdout",
     "output_type": "stream",
     "text": [
      "7\n",
      "      *\n",
      "     ***\n",
      "    *****\n",
      "   *******\n",
      "  *********\n",
      " ***********\n",
      "*************\n",
      " ***********\n",
      "  *********\n",
      "   *******\n",
      "    *****\n",
      "     ***\n",
      "      *\n"
     ]
    }
   ],
   "source": [
    "num = int(input())\n",
    "\n",
    "for i in range(2*num-1):\n",
    "    if(i<=num-1):\n",
    "        for j in range(num-i-1):\n",
    "            print(' ',end='')\n",
    "        for k in range(2*i+1):\n",
    "            print(\"*\",end='')\n",
    "        print()\n",
    "    if (i>num-1):    \n",
    "        for a in range(i-(num-1)):\n",
    "            print(\" \",end = '')\n",
    "        for b in range(4*num-2*i-3):\n",
    "            print(\"*\",end='')\n",
    "        print()\n",
    "        \n",
    "        \n",
    "        "
   ]
  },
  {
   "cell_type": "code",
   "execution_count": 57,
   "id": "a5b779ac",
   "metadata": {},
   "outputs": [
    {
     "name": "stdout",
     "output_type": "stream",
     "text": [
      "teet\n",
      "1\n"
     ]
    }
   ],
   "source": [
    "arr = list(input())\n",
    "r_arr = arr[::-1]\n",
    "if ( arr == r_arr):\n",
    "    print(1)\n",
    "else:\n",
    "    print(0)"
   ]
  },
  {
   "cell_type": "code",
   "execution_count": 60,
   "id": "0487fef3",
   "metadata": {},
   "outputs": [
    {
     "data": {
      "text/plain": [
       "2"
      ]
     },
     "execution_count": 60,
     "metadata": {},
     "output_type": "execute_result"
    }
   ],
   "source": [
    "word = 'abcdea'\n",
    "x = a\n",
    "word_count = word.count('a')\n",
    "word_count"
   ]
  },
  {
   "cell_type": "code",
   "execution_count": 66,
   "id": "33db0b35",
   "metadata": {},
   "outputs": [
    {
     "name": "stdout",
     "output_type": "stream",
     "text": [
      "wwwddd\n",
      "?\n"
     ]
    }
   ],
   "source": [
    "word = input().upper()\n",
    "count_list = list(set(word)) #중복된 단어 제거 \n",
    "count = []\n",
    "for i in count_list:\n",
    "    word_count = word.count(i) #얼마나 들었는지 세기\n",
    "    count.append(word_count)\n",
    "if count.count(max(count))>1:\n",
    "    print(\"?\")\n",
    "else:\n",
    "    max_index = count.index(max(count))\n",
    "    result = count_list[max_index]\n",
    "    print(result)\n",
    "    \n",
    "\n",
    "    \n",
    "    "
   ]
  },
  {
   "cell_type": "code",
   "execution_count": 81,
   "id": "dbcb258e",
   "metadata": {},
   "outputs": [
    {
     "name": "stdout",
     "output_type": "stream",
     "text": [
      "dddc=\n",
      "4\n"
     ]
    }
   ],
   "source": [
    "cro = ['c=','c-','dz=','d-','lj','nj','s=','z=']\n",
    "word = input()\n",
    "for i in cro:\n",
    "    word = word.replace(i,\"*\") #new_word 라고 해버리면 계속 기존 word에서 해당 루프내용만 적용됨\n",
    "print(len(word))                        #그래서 word로 변경내용을 기록을 시켜줘야함"
   ]
  },
  {
   "cell_type": "code",
   "execution_count": 98,
   "id": "9bb91c8d",
   "metadata": {},
   "outputs": [
    {
     "name": "stdout",
     "output_type": "stream",
     "text": [
      "1\n",
      "qqqqqdddq\n",
      "[0, 1, 2, 3, 4, 8, 5, 6, 7]\n",
      "[0, 1, 2, 3, 4, 5, 6, 7, 8]\n",
      "['q', 'q', 'q', 'q', 'q', 'd', 'd', 'd', 'q']\n",
      "['q', 'd']\n",
      "0\n"
     ]
    }
   ],
   "source": [
    "from collections import OrderedDict #중복 제거해서 순서대로 리스트 만드는 도구 import\n",
    "num = int(input())\n",
    "count = 0\n",
    "for i in range(num):\n",
    "    word = input()\n",
    "    word_list = list(word)\n",
    "    arr = list(OrderedDict.fromkeys(word))\n",
    "    index_list = []\n",
    "    for j in arr:\n",
    "        for n, k in enumerate(word_list):\n",
    "            if (j==k):\n",
    "                                 #index로 하면 중복된 것 중 첫번쨰 인덱스만가져옴\n",
    "                index_list.append(n)\n",
    "                \n",
    "    sorted_list = sorted(index_list)\n",
    "    if (index_list == sorted_list):\n",
    "        count+=1\n",
    "\n",
    "print(count)\n",
    "        ##set 함수는 순서가보장되지 않는다.  "
   ]
  },
  {
   "cell_type": "code",
   "execution_count": 99,
   "id": "46b8989c",
   "metadata": {},
   "outputs": [
    {
     "name": "stdout",
     "output_type": "stream",
     "text": [
      "1\n",
      "word\n",
      "1\n"
     ]
    }
   ],
   "source": [
    "num = int(input())\n",
    "group_word=0\n",
    "for _ in range(num):\n",
    "    word = input()\n",
    "    error = 0\n",
    "    for index in range(len(word)-1):\n",
    "        if word[index] != word[index+1]:\n",
    "            new_word = word[index+1:]\n",
    "            if new_word.count(word[index])>0:\n",
    "                error+=1\n",
    "                \n",
    "    if error == 0 :\n",
    "        group_word+=1\n",
    "print(group_word)"
   ]
  },
  {
   "cell_type": "code",
   "execution_count": 132,
   "id": "bae985f0",
   "metadata": {},
   "outputs": [
    {
     "name": "stdout",
     "output_type": "stream",
     "text": [
      "2 2\n",
      "3 2\n",
      "3 3\n",
      "2 2\n",
      "3 3\n",
      "5 4\n",
      "6 6\n"
     ]
    }
   ],
   "source": [
    "A = []\n",
    "B = []\n",
    "C = []\n",
    "N, M = map(int,input().split())\n",
    "for i in range(N):\n",
    "    AA = list(map(int,input().split()))\n",
    "    A.append(AA)\n",
    "for j in range(N):\n",
    "    BB = list(map(int,input().split()))\n",
    "    B.append(BB)\n",
    "for k in range(N):\n",
    "    for g in range(M):\n",
    "        \n",
    "        temp =A[k][g]+B[k][g]\n",
    "        C.append(temp)\n",
    "    print(*C) #리스트 원소들 한번에 출력하는 함수\n",
    "    C.clear() #C 비우고 다시 시작\n",
    "    \n"
   ]
  },
  {
   "cell_type": "markdown",
   "id": "9402fd8f",
   "metadata": {},
   "source": [
    "## "
   ]
  },
  {
   "cell_type": "code",
   "execution_count": 147,
   "id": "4f053df7",
   "metadata": {},
   "outputs": [
    {
     "name": "stdout",
     "output_type": "stream",
     "text": [
      "1 2 3\n",
      "2 5 7\n",
      "4 8 5\n",
      "8\n",
      "2 1\n"
     ]
    }
   ],
   "source": [
    "arr = []\n",
    "max_arr = []\n",
    "for i in range(9):\n",
    "    onesaw = list(map(int,input().split()))\n",
    "    arr.append(onesaw)\n",
    "for j in arr:\n",
    "    max_arr.append(max(j))\n",
    "    max_result = max(max_arr)\n",
    "max_result\n",
    "for k, row in enumerate(arr):\n",
    "    if (max_result in row):\n",
    "        one = k+1\n",
    "        two = row.index(max_result)+1\n",
    "        break\n",
    "print(max_result)\n",
    "print(one, two)\n",
    "        \n",
    "\n",
    "    \n",
    "\n"
   ]
  },
  {
   "cell_type": "code",
   "execution_count": 164,
   "id": "83e8d3f9",
   "metadata": {},
   "outputs": [
    {
     "name": "stdout",
     "output_type": "stream",
     "text": [
      "13467\n",
      "123\n",
      "abc\n",
      "defgeht\n",
      "1333\n",
      "11ad132be343cf36g37eht\n"
     ]
    }
   ],
   "source": [
    "arr = []\n",
    "result = []\n",
    "for i in range(5):\n",
    "    onesaw = list(input())\n",
    "    arr.append(onesaw)\n",
    "max_arr = [len(row) for row in arr]\n",
    "ma = max(max_arr)\n",
    "for k in range(ma):\n",
    "    for j in range(5):\n",
    "        try:\n",
    "            result.append(arr[j][k])\n",
    "        except IndexError:\n",
    "            pass\n",
    "print(''.join(result))\n",
    "    "
   ]
  },
  {
   "cell_type": "code",
   "execution_count": 162,
   "id": "ad1a8eed",
   "metadata": {},
   "outputs": [
    {
     "data": {
      "text/plain": [
       "2"
      ]
     },
     "execution_count": 162,
     "metadata": {},
     "output_type": "execute_result"
    }
   ],
   "source": []
  },
  {
   "cell_type": "code",
   "execution_count": 181,
   "id": "e19a5fbe",
   "metadata": {},
   "outputs": [
    {
     "name": "stdout",
     "output_type": "stream",
     "text": [
      "3\n",
      "3 7\n",
      "5 2\n",
      "15 7\n",
      "260\n"
     ]
    }
   ],
   "source": [
    "num = int(input())\n",
    "box = []\n",
    "place = 0\n",
    "every = 100 * num\n",
    "for i in range(num):\n",
    "    onesaw = list(map(int,input().split()))\n",
    "    box.append(onesaw)\n",
    "\n",
    "for j in range(len(box)):\n",
    "    for k in range(j+1,len(box)):\n",
    "        if(abs(box[j][0] - box[k][0])<10 and abs(box[j][1]-box[k][1])<10):\n",
    "            place+=(10-(abs(box[j][0] - box[k][0])))*(10-(abs(box[j][1]-box[k][1])))\n",
    "print(every - place)"
   ]
  },
  {
   "cell_type": "code",
   "execution_count": 182,
   "id": "3eaf99b0",
   "metadata": {},
   "outputs": [
    {
     "name": "stdout",
     "output_type": "stream",
     "text": [
      "3\n",
      "3 7\n",
      "5 2\n",
      "15 7\n",
      "260\n"
     ]
    }
   ],
   "source": [
    "num = int(input())\n",
    "map_array = [[0]*100 for _ in range(100)]\n",
    "for _ in range(num):\n",
    "    x, y = map(int,input().split())\n",
    "    for i in range(y,y+10):\n",
    "        idx_y = i\n",
    "        for j in range(x,x+10):\n",
    "            idx_x = j\n",
    "            if(map_array[idx_y][idx_x]==0):\n",
    "                map_array[idx_y][idx_x]=1\n",
    "            else:\n",
    "                pass\n",
    "sum_array = 0 \n",
    "for i in range(100):\n",
    "    sum_array += sum(map_array[i])\n",
    "print(sum_array)"
   ]
  },
  {
   "cell_type": "code",
   "execution_count": 32,
   "id": "3ed64390",
   "metadata": {},
   "outputs": [
    {
     "name": "stdout",
     "output_type": "stream",
     "text": [
      "ZZZZZ 36\n",
      "35\n",
      "60466175\n"
     ]
    }
   ],
   "source": [
    "N, B = input().split()\n",
    "B = int(B)\n",
    "total = 0\n",
    "길이 = len(str(N))\n",
    "지수 = 길이 - 1\n",
    "alphabet = list('0123456789ABCDEFGHIJKLMNOPQRSTUVWXYZ')\n",
    "\n",
    "for i in str(N):\n",
    "    if 지수 >= 0:\n",
    "        indexing = alphabet.index(i)\n",
    "        result = indexing * (B ** 지수) \n",
    "        지수 -= 1\n",
    "        total += result\n",
    "    elif 지수 < 0:\n",
    "        break\n",
    "print(total)\n"
   ]
  },
  {
   "cell_type": "code",
   "execution_count": 74,
   "id": "278d85ff",
   "metadata": {},
   "outputs": [
    {
     "name": "stdout",
     "output_type": "stream",
     "text": [
      "60466175 36\n",
      "ZZZZZ\n"
     ]
    }
   ],
   "source": [
    "N, B = map(int,input().split())\n",
    "\n",
    "num = []\n",
    "몫 = N//B\n",
    "나머지 = N%B\n",
    "while(N>0):\n",
    "    몫 = N//B\n",
    "    나머지 = N%B\n",
    "    num.append(나머지)\n",
    "    N=몫\n",
    "num = num[::-1]\n",
    "alphabet = list('0123456789ABCDEFGHIJKLMNOPQRSTUVWXYZ')\n",
    "result = []\n",
    "result = [alphabet[i] for i in num]\n",
    "print(*result, sep='')"
   ]
  },
  {
   "cell_type": "code",
   "execution_count": 76,
   "id": "e2fcfe56",
   "metadata": {},
   "outputs": [
    {
     "name": "stdout",
     "output_type": "stream",
     "text": [
      "3\n",
      "124\n",
      "25\n",
      "194\n",
      "4 2 0 4\n",
      "1 0 0 0\n",
      "7 1 1 4\n"
     ]
    }
   ],
   "source": [
    "T = int(input())\n",
    "penny = []\n",
    "arr = [25,10,5,1]\n",
    "for i in range(T):\n",
    "    money = int(input())\n",
    "    box = []\n",
    "    for j in arr:\n",
    "        몫 = money//j\n",
    "        나머지 = money%j\n",
    "        money = 나머지\n",
    "        box.append(몫)\n",
    "    penny.append(box)\n",
    "for k in range(T):\n",
    "    print(*penny[k])\n",
    "        \n",
    "    "
   ]
  },
  {
   "cell_type": "code",
   "execution_count": 84,
   "id": "99f636d5",
   "metadata": {},
   "outputs": [
    {
     "name": "stdout",
     "output_type": "stream",
     "text": [
      "5\n",
      "1089\n"
     ]
    }
   ],
   "source": [
    "N = int(input())\n",
    "k = 2\n",
    "for _ in range(N):\n",
    "    k = 2*k-1\n",
    "total = k ** 2\n",
    "print(total)"
   ]
  },
  {
   "cell_type": "code",
   "execution_count": 112,
   "id": "3fdb1726",
   "metadata": {},
   "outputs": [
    {
     "name": "stdout",
     "output_type": "stream",
     "text": [
      "242424\n",
      "285\n"
     ]
    }
   ],
   "source": [
    "N = int(input())\n",
    "k=1\n",
    "i=1\n",
    "box=[[1]]\n",
    "\n",
    "while(k<N):\n",
    "    a = []\n",
    "    for j in range(k+1,k+6*i+1):     \n",
    "        a.append(j)\n",
    "    k = k+6*i\n",
    "    i+=1\n",
    "    box.append(a)\n",
    "    \n",
    "for j, k in enumerate(box):\n",
    "    if ( N in k):\n",
    "        result = j+1\n",
    "        break\n",
    "print(result)\n",
    "    \n"
   ]
  },
  {
   "cell_type": "markdown",
   "id": "60f78f87",
   "metadata": {},
   "source": [
    "### 되긴하는데 메모리를 너무 많이 잡아먹음\n",
    "### 해결 위해선 수학적 방법을 도입해야됨\n",
    "### 6씩 증가하는 항목이니깐 등비수열로"
   ]
  },
  {
   "cell_type": "code",
   "execution_count": 117,
   "id": "01b3076a",
   "metadata": {},
   "outputs": [
    {
     "name": "stdout",
     "output_type": "stream",
     "text": [
      "65\n",
      "6\n"
     ]
    }
   ],
   "source": [
    "N = int(input())\n",
    "i = 1\n",
    "while True:\n",
    "    if (N==1):\n",
    "        result=1\n",
    "        break\n",
    "    elif(3*(i-1)*i<=N<=3*i*(i+1)+1):\n",
    "        result = i+1\n",
    "        break\n",
    "    else:\n",
    "        i+=1\n",
    "print(result)\n"
   ]
  },
  {
   "cell_type": "code",
   "execution_count": 27,
   "id": "fde4dbbe",
   "metadata": {},
   "outputs": [
    {
     "name": "stdout",
     "output_type": "stream",
     "text": [
      "5\n"
     ]
    },
    {
     "data": {
      "text/plain": [
       "'1/3'"
      ]
     },
     "execution_count": 27,
     "metadata": {},
     "output_type": "execute_result"
    }
   ],
   "source": [
    "n = 1\n",
    "boxes = []\n",
    "\n",
    "X = int(input())\n",
    "while (True):\n",
    "        \n",
    "        if (n*(n-1)/2<=X):\n",
    "            box = []\n",
    "            분자 = 1\n",
    "            분모 = n\n",
    "            for _ in range(n):\n",
    "                result = str(분자)+'/'+str(분모)\n",
    "                box.append(result)\n",
    "                분자+=1\n",
    "                분모-=1\n",
    "            if (n%2==1):\n",
    "                box = box[::-1]\n",
    "            boxes.append(box)\n",
    "            n+=1\n",
    "        else:\n",
    "            break\n",
    "order = int(n*(n-1)/2 - X)\n",
    "boxes[n-2][-order]"
   ]
  },
  {
   "cell_type": "markdown",
   "id": "c06d09c6",
   "metadata": {},
   "source": [
    "#### 되긴 하는데 시간초과. 굳이 배열 생성할 필요 없었음"
   ]
  },
  {
   "cell_type": "code",
   "execution_count": 46,
   "id": "4280a060",
   "metadata": {},
   "outputs": [
    {
     "name": "stdout",
     "output_type": "stream",
     "text": [
      "7\n",
      "1/4\n"
     ]
    }
   ],
   "source": [
    "X = int(input())\n",
    "line = 1\n",
    "n = 1\n",
    "\n",
    "while(X>line):\n",
    "    X-=line\n",
    "    line+=1\n",
    "if ( line%2 == 0):\n",
    "    a = X\n",
    "    b = line - X + 1\n",
    "else:\n",
    "    a = line - X + 1\n",
    "    b = X\n",
    "print(f\"{a}/{b}\")\n",
    "    "
   ]
  },
  {
   "cell_type": "code",
   "execution_count": 50,
   "id": "74144ec4",
   "metadata": {},
   "outputs": [
    {
     "name": "stdout",
     "output_type": "stream",
     "text": [
      "5 1 6\n",
      "2\n"
     ]
    }
   ],
   "source": [
    "A,B,V = map(int,input().split())\n",
    "up = A\n",
    "down = B\n",
    "total = A-B\n",
    "accum = 0\n",
    "day = 0\n",
    "while(True):\n",
    "    reach = accum+up\n",
    "    if (reach >= V):\n",
    "        day +=1\n",
    "        break\n",
    "    else:\n",
    "        accum += total\n",
    "        day +=1\n",
    "print(day)\n",
    "    \n",
    "    "
   ]
  },
  {
   "cell_type": "markdown",
   "id": "35c77042",
   "metadata": {},
   "source": [
    "#### 이것도 되긴하는데 시간초과. 숫자가 매우 커졌을 때 효율적으로 연산하는지 생각해봐야함"
   ]
  },
  {
   "cell_type": "code",
   "execution_count": 60,
   "id": "01d70a12",
   "metadata": {},
   "outputs": [
    {
     "name": "stdout",
     "output_type": "stream",
     "text": [
      "5 1 6\n",
      "2\n"
     ]
    }
   ],
   "source": [
    "A,B,V = map(int,input().split())\n",
    "day = (V-A)//(A-B)\n",
    "if ((V-A)%(A-B)!=0):\n",
    "    day+=1\n",
    "print(day+1)"
   ]
  },
  {
   "cell_type": "code",
   "execution_count": 84,
   "id": "295d9c92",
   "metadata": {},
   "outputs": [
    {
     "name": "stdout",
     "output_type": "stream",
     "text": [
      "3 6\n",
      "factor\n",
      "6 3\n",
      "multiple\n",
      "8 7\n",
      "neither\n",
      "0 0\n"
     ]
    }
   ],
   "source": [
    " \n",
    "while True:\n",
    "    a, b = map(int,input().split())\n",
    "    if(a==0 and b==0):\n",
    "        break\n",
    "    if (a<b):\n",
    "        if(b%a==0):\n",
    "            print(\"factor\")\n",
    "        else:\n",
    "            print(\"neither\")\n",
    "    elif (a>b):\n",
    "        if(a%b==0):\n",
    "            print(\"multiple\")\n",
    "        else:\n",
    "            print(\"neither\")\n"
   ]
  },
  {
   "cell_type": "code",
   "execution_count": 87,
   "id": "459d1595",
   "metadata": {},
   "outputs": [
    {
     "name": "stdout",
     "output_type": "stream",
     "text": [
      "6 2\n",
      "2\n"
     ]
    }
   ],
   "source": [
    "N , K = map(int,input().split())\n",
    "box = []\n",
    "for i in range(1,N+1):\n",
    "    if N%i==0:\n",
    "        box.append(i)\n",
    "    else:\n",
    "        pass\n",
    "if (len(box)<K):\n",
    "    print(0)\n",
    "else:\n",
    "    num = box[K-1]\n",
    "    print(num)"
   ]
  },
  {
   "cell_type": "code",
   "execution_count": 88,
   "id": "8b8f623f",
   "metadata": {},
   "outputs": [
    {
     "data": {
      "text/plain": [
       "6"
      ]
     },
     "execution_count": 88,
     "metadata": {},
     "output_type": "execute_result"
    }
   ],
   "source": [
    "box = [1,2,3]\n",
    "sum(box)\n"
   ]
  },
  {
   "cell_type": "code",
   "execution_count": 104,
   "id": "b254d13d",
   "metadata": {},
   "outputs": [
    {
     "name": "stdout",
     "output_type": "stream",
     "text": [
      "6\n",
      "6 = 1 + 2 + 3\n",
      "28\n",
      "28 = 1 + 2 + 4 + 7 + 14\n",
      "5\n",
      "5 is Not perfect.\n",
      "-1\n"
     ]
    }
   ],
   "source": [
    "while True:\n",
    "    n = int(input())\n",
    "    if(n==-1):\n",
    "        break\n",
    "    box = []\n",
    "    for i in range(1,n):\n",
    "        if(n%i==0):\n",
    "            box.append(i)\n",
    "        else:\n",
    "            pass\n",
    "    total = sum(box)\n",
    "    text = []\n",
    "    if(total==n):\n",
    "        text.append(str(n))\n",
    "        text.append(\"=\")\n",
    "        for j in range(len(box)):\n",
    "            text.append(box[j])\n",
    "            if(j!=len(box)-1):\n",
    "                text.append(\"+\")\n",
    "            else:\n",
    "                pass\n",
    "        print(' '.join(map(str, text)))\n",
    "    else:\n",
    "        print(f\"{n} is NOT perfect.\")\n",
    "        \n",
    "        "
   ]
  },
  {
   "cell_type": "markdown",
   "id": "c38fef16",
   "metadata": {},
   "source": [
    "#### join 함수. 특정 부호를 원소들 사이에 끼워넣는? 역할"
   ]
  },
  {
   "cell_type": "code",
   "execution_count": 105,
   "id": "09cf6482",
   "metadata": {},
   "outputs": [
    {
     "name": "stdout",
     "output_type": "stream",
     "text": [
      "apple, banana, cherry\n"
     ]
    }
   ],
   "source": [
    "# ex) \n",
    "my_list = [\"apple\", \"banana\", \"cherry\"]\n",
    "result = \", \".join(my_list)\n",
    "print(result)"
   ]
  },
  {
   "cell_type": "code",
   "execution_count": 114,
   "id": "06f48b0a",
   "metadata": {},
   "outputs": [
    {
     "name": "stdout",
     "output_type": "stream",
     "text": [
      "4\n",
      "1 3 5 7\n",
      "3\n"
     ]
    }
   ],
   "source": [
    "N= int(input())\n",
    "box = list(map(int,input().split()))\n",
    "count = 0\n",
    "for i in box:\n",
    "    prime=0\n",
    "    for k in range(1,i+1):\n",
    "        if (i%k==0):\n",
    "            prime+=1\n",
    "    if (prime==2):\n",
    "        count+=1\n",
    "print(count)\n",
    "    \n",
    "    "
   ]
  },
  {
   "cell_type": "code",
   "execution_count": 127,
   "id": "699f3c5a",
   "metadata": {},
   "outputs": [
    {
     "name": "stdout",
     "output_type": "stream",
     "text": [
      "60\n",
      "100\n",
      "620\n",
      "61\n"
     ]
    }
   ],
   "source": [
    "M = int(input())\n",
    "N = int(input())\n",
    "prime_sum = 0 \n",
    "first_prime = None\n",
    "for num in range(M,N+1):\n",
    "    if (num>1):\n",
    "        is_prime = True\n",
    "        for i in range(2, int(num**0.5) + 1): #제곱근까지만 약수로 나눠보면 소수인지 판단가능\n",
    "            if(num%i==0):\n",
    "                is_prime = False\n",
    "                break\n",
    "        if(is_prime):\n",
    "            if first_prime is None:\n",
    "                first_prime = num\n",
    "            prime_sum +=num\n",
    "if first_prime is not None:\n",
    "    print(prime_sum)\n",
    "    print(first_prime)\n",
    "else:\n",
    "    print(-1)\n",
    "        \n",
    "            \n",
    "#모든 약수를 다 구해서 넣을 필요가 없었음. 제곰근 이하의 수를 확인해서 \n",
    "#prime 수가 true인지 false 인지만 판단하면 될 일\n",
    "        "
   ]
  },
  {
   "cell_type": "code",
   "execution_count": null,
   "id": "9b4cabf6",
   "metadata": {},
   "outputs": [],
   "source": []
  }
 ],
 "metadata": {
  "kernelspec": {
   "display_name": "Python 3",
   "language": "python",
   "name": "python3"
  },
  "language_info": {
   "codemirror_mode": {
    "name": "ipython",
    "version": 3
   },
   "file_extension": ".py",
   "mimetype": "text/x-python",
   "name": "python",
   "nbconvert_exporter": "python",
   "pygments_lexer": "ipython3",
   "version": "3.8.8"
  }
 },
 "nbformat": 4,
 "nbformat_minor": 5
}
